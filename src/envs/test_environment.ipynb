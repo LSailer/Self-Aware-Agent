{
 "cells": [
  {
   "cell_type": "code",
   "execution_count": 1,
   "metadata": {},
   "outputs": [
    {
     "name": "stderr",
     "output_type": "stream",
     "text": [
      "pybullet build time: Sep  3 2024 12:58:42\n"
     ]
    }
   ],
   "source": [
    "import pybullet as p\n",
    "import time\n",
    "import numpy as np\n",
    "import os\n",
    "import sys\n"
   ]
  },
  {
   "cell_type": "code",
   "execution_count": 5,
   "metadata": {},
   "outputs": [],
   "source": [
    "from environment import Environment"
   ]
  },
  {
   "cell_type": "code",
   "execution_count": 3,
   "metadata": {},
   "outputs": [
    {
     "name": "stdout",
     "output_type": "stream",
     "text": [
      "Version = 4.1 INTEL-23.0.26\n",
      "Vendor = Intel Inc.\n",
      "Renderer = Intel(R) Iris(TM) Plus Graphics 655\n",
      "b3Printf: Selected demo: Physics Server\n",
      "startThreads creating 1 threads.\n",
      "starting thread 0\n",
      "started thread 0 \n",
      "MotionThreadFunc thread started\n",
      "PyBullet GUI started. Environment created with one agent (ID: 1).\n"
     ]
    }
   ],
   "source": [
    "env = Environment(use_gui=True, num_agents=1)\n",
    "agent_id = env.agent_ids[0]\n",
    "print(f\"PyBullet GUI started. Environment created with one agent (ID: {agent_id}).\")\n"
   ]
  },
  {
   "cell_type": "code",
   "execution_count": 7,
   "metadata": {},
   "outputs": [],
   "source": [
    "test_sequence = [\n",
    "       \n",
    "        (\"forward\", 1),\n",
    "        (\"rotate_left\", 1),\n",
    "        (\"forward\", 1),\n",
    "        (\"backward\", 1),\n",
    "        (\"rotate_right\", 1.5),\n",
    "        (\"right\", 2),\n",
    "        (\"left\", 2)\n",
    "    ]"
   ]
  },
  {
   "cell_type": "code",
   "execution_count": 8,
   "metadata": {},
   "outputs": [
    {
     "name": "stdout",
     "output_type": "stream",
     "text": [
      "\n",
      "Environment reset. Starting action sequence...\n",
      "------------------------------\n",
      "Executing action: 'forward' for 1 second(s).\n",
      "Executing action: 'rotate_left' for 1 second(s).\n",
      "Executing action: 'forward' for 1 second(s).\n",
      "Executing action: 'backward' for 1 second(s).\n",
      "Executing action: 'rotate_right' for 1.5 second(s).\n",
      "Executing action: 'right' for 2 second(s).\n",
      "Executing action: 'left' for 2 second(s).\n",
      "------------------------------\n",
      "Test sequence finished successfully!\n"
     ]
    }
   ],
   "source": [
    "env.reset()\n",
    "print(\"\\nEnvironment reset. Starting action sequence...\")\n",
    "print(\"-\" * 30)\n",
    "\n",
    "for action_key, duration in test_sequence:\n",
    "    print(f\"Executing action: '{action_key}' for {duration} second(s).\")\n",
    "    start_time = time.time()\n",
    "    while time.time() - start_time < duration:\n",
    "        # Command the agent to perform the action\n",
    "        env.apply_action(agent_id, action_key)\n",
    "\n",
    "        # Advance the physics simulation\n",
    "        env.step_simulation()\n",
    "\n",
    "        # Add a small delay to make the simulation run at a viewable speed\n",
    "        time.sleep(1./240.)\n",
    "\n",
    "print(\"-\" * 30)\n",
    "print(\"Test sequence finished successfully!\")\n"
   ]
  },
  {
   "cell_type": "code",
   "execution_count": 6,
   "metadata": {},
   "outputs": [
    {
     "name": "stdout",
     "output_type": "stream",
     "text": [
      "numActiveThreads = 0\n",
      "stopping threads\n",
      "Thread with taskId 0 exiting\n",
      "Thread TERMINATED\n",
      "destroy semaphore\n",
      "semaphore destroyed\n",
      "destroy main semaphore\n",
      "main semaphore destroyed\n"
     ]
    }
   ],
   "source": [
    "env.close()"
   ]
  }
 ],
 "metadata": {
  "kernelspec": {
   "display_name": "self_aware_agent",
   "language": "python",
   "name": "python3"
  },
  "language_info": {
   "codemirror_mode": {
    "name": "ipython",
    "version": 3
   },
   "file_extension": ".py",
   "mimetype": "text/x-python",
   "name": "python",
   "nbconvert_exporter": "python",
   "pygments_lexer": "ipython3",
   "version": "3.10.16"
  }
 },
 "nbformat": 4,
 "nbformat_minor": 2
}
